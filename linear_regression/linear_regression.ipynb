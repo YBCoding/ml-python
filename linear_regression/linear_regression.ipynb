{
 "cells": [
  {
   "cell_type": "markdown",
   "metadata": {
    "pycharm": {
     "name": "#%%"
    }
   },
   "source": [
    "L'objectif de ce notebook est de mettre an pratique le modèle de régression linéaire.\n",
    "Ce notebook est basé sur les exercices proposés par le cours CS229 de Andrew Ng accompagné des vidéos en lignes (https://youtu.be/PPLop4L2eGk)\n",
    "\n",
    "Nous avons dans le dossier un fichier ex1data1.txt\n",
    "Celui-ci contient deux colonnes, la première représentant la population d'une ville, la seconde le profit d'une activité.\n",
    "\n",
    "L'objecitif est de calculer les paramètres  d'un modèle linéaire nous permettant de prédire le profit potentielle de l'activité dans une nouvelle ville."
   ]
  },
  {
   "cell_type": "code",
   "execution_count": 1,
   "metadata": {
    "pycharm": {
     "is_executing": false
    }
   },
   "outputs": [],
   "source": [
    "import pandas as pd\n",
    "import matplotlib\n",
    "import numpy as np\n",
    "\n",
    "df = pd.read_csv(\"ex1data1.txt\", names=[\"Population\",\"Profit\"])"
   ]
  },
  {
   "cell_type": "code",
   "execution_count": 2,
   "metadata": {
    "pycharm": {
     "is_executing": false,
     "name": "#%%\n"
    },
    "scrolled": false
   },
   "outputs": [
    {
     "data": {
      "text/plain": [
       "<matplotlib.axes._subplots.AxesSubplot at 0xf268160>"
      ]
     },
     "execution_count": 2,
     "metadata": {},
     "output_type": "execute_result"
    }
   ],
   "source": [
    "df.plot.scatter(x='Population', y='Profit', c='DarkBlue')"
   ]
  },
  {
   "cell_type": "code",
   "execution_count": 3,
   "metadata": {},
   "outputs": [
    {
     "name": "stdout",
     "output_type": "stream",
     "text": [
      "    Population    Profit\n",
      "0       6.1101  17.59200\n",
      "1       5.5277   9.13020\n",
      "2       8.5186  13.66200\n",
      "3       7.0032  11.85400\n",
      "4       5.8598   6.82330\n",
      "5       8.3829  11.88600\n",
      "6       7.4764   4.34830\n",
      "7       8.5781  12.00000\n",
      "8       6.4862   6.59870\n",
      "9       5.0546   3.81660\n",
      "10      5.7107   3.25220\n",
      "11     14.1640  15.50500\n",
      "12      5.7340   3.15510\n",
      "13      8.4084   7.22580\n",
      "14      5.6407   0.71618\n",
      "15      5.3794   3.51290\n",
      "16      6.3654   5.30480\n",
      "17      5.1301   0.56077\n",
      "18      6.4296   3.65180\n",
      "19      7.0708   5.38930\n",
      "20      6.1891   3.13860\n",
      "21     20.2700  21.76700\n",
      "22      5.4901   4.26300\n",
      "23      6.3261   5.18750\n",
      "24      5.5649   3.08250\n",
      "25     18.9450  22.63800\n",
      "26     12.8280  13.50100\n",
      "27     10.9570   7.04670\n",
      "28     13.1760  14.69200\n",
      "29     22.2030  24.14700\n",
      "..         ...       ...\n",
      "67     10.2360   7.77540\n",
      "68      5.4994   1.01730\n",
      "69     20.3410  20.99200\n",
      "70     10.1360   6.67990\n",
      "71      7.3345   4.02590\n",
      "72      6.0062   1.27840\n",
      "73      7.2259   3.34110\n",
      "74      5.0269  -2.68070\n",
      "75      6.5479   0.29678\n",
      "76      7.5386   3.88450\n",
      "77      5.0365   5.70140\n",
      "78     10.2740   6.75260\n",
      "79      5.1077   2.05760\n",
      "80      5.7292   0.47953\n",
      "81      5.1884   0.20421\n",
      "82      6.3557   0.67861\n",
      "83      9.7687   7.54350\n",
      "84      6.5159   5.34360\n",
      "85      8.5172   4.24150\n",
      "86      9.1802   6.79810\n",
      "87      6.0020   0.92695\n",
      "88      5.5204   0.15200\n",
      "89      5.0594   2.82140\n",
      "90      5.7077   1.84510\n",
      "91      7.6366   4.29590\n",
      "92      5.8707   7.20290\n",
      "93      5.3054   1.98690\n",
      "94      8.2934   0.14454\n",
      "95     13.3940   9.05510\n",
      "96      5.4369   0.61705\n",
      "\n",
      "[97 rows x 2 columns]\n"
     ]
    }
   ],
   "source": [
    "print(df)"
   ]
  },
  {
   "cell_type": "markdown",
   "metadata": {},
   "source": [
    "## Première méthode : Batch grandient descent\n"
   ]
  },
  {
   "cell_type": "code",
   "execution_count": 4,
   "metadata": {},
   "outputs": [],
   "source": [
    "def computeCost(X, y, theta):\n",
    "    m = len(y)\n",
    "    errorSquared = (np.dot(X,theta)-y)**2\n",
    "    return np.sum(errorSquared)/(2*m)"
   ]
  },
  {
   "cell_type": "code",
   "execution_count": 5,
   "metadata": {},
   "outputs": [],
   "source": [
    "theta = np.zeros(2)"
   ]
  },
  {
   "cell_type": "code",
   "execution_count": 6,
   "metadata": {},
   "outputs": [],
   "source": [
    "population_feature = df[\"Population\"].values.reshape(df[\"Population\"].size,1)\n",
    "\n",
    "ones = np.ones_like(population_feature)\n",
    "features = np.hstack((ones, population_feature)) #(in order to have x^i_0 = 1)"
   ]
  },
  {
   "cell_type": "code",
   "execution_count": 7,
   "metadata": {
    "scrolled": true
   },
   "outputs": [
    {
     "name": "stdout",
     "output_type": "stream",
     "text": [
      "theta :  (2,)\n",
      "features :  (97, 2)\n",
      "profit :  (97,)\n",
      "32.072733877455676\n"
     ]
    }
   ],
   "source": [
    "print('theta : ', theta.shape)\n",
    "print('features : ', features.shape)\n",
    "print('profit : ', df[\"Profit\"].shape)\n",
    "cost = computeCost(features, df[\"Profit\"], theta)\n",
    "print(cost)"
   ]
  },
  {
   "cell_type": "code",
   "execution_count": null,
   "metadata": {},
   "outputs": [],
   "source": []
  },
  {
   "cell_type": "code",
   "execution_count": null,
   "metadata": {},
   "outputs": [],
   "source": []
  }
 ],
 "metadata": {
  "kernelspec": {
   "display_name": "Python 3",
   "language": "python",
   "name": "python3"
  },
  "language_info": {
   "codemirror_mode": {
    "name": "ipython",
    "version": 3
   },
   "file_extension": ".py",
   "mimetype": "text/x-python",
   "name": "python",
   "nbconvert_exporter": "python",
   "pygments_lexer": "ipython3",
   "version": "3.7.3"
  },
  "pycharm": {
   "stem_cell": {
    "cell_type": "raw",
    "source": [],
    "metadata": {
     "collapsed": false
    }
   }
  }
 },
 "nbformat": 4,
 "nbformat_minor": 1
}